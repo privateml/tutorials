{
 "cells": [
  {
   "cell_type": "code",
   "execution_count": 1,
   "metadata": {
    "collapsed": true
   },
   "outputs": [],
   "source": [
    "import random\n",
    "import numpy as np"
   ]
  },
  {
   "cell_type": "code",
   "execution_count": 2,
   "metadata": {
    "collapsed": true
   },
   "outputs": [],
   "source": [
    "#\n",
    "# Use e.g. https://www.compilejava.net/\n",
    "#\n",
    "#import java.util.*;\n",
    "#import java.math.*;\n",
    "#\n",
    "#public class Entrypoint\n",
    "#{\n",
    "#  public static void main(String[] args)\n",
    "#  {\n",
    "#    BigInteger q = BigInteger.probablePrime(128, new Random());    \n",
    "#    BigInteger inverse = new BigInteger(\"10000000000\").modInverse(q);\n",
    "#    System.out.println(q);\n",
    "#    System.out.println(inverse);\n",
    "#  }\n",
    "#}\n",
    "\n",
    "BASE = 10\n",
    "\n",
    "#PRECISION_INTEGRAL = 1\n",
    "#PRECISION_FRACTIONAL = 6\n",
    "#Q = 10000019\n",
    "\n",
    "PRECISION_INTEGRAL = 8\n",
    "PRECISION_FRACTIONAL = 8\n",
    "Q = 293973345475167247070445277780365744413\n",
    "\n",
    "PRECISION = PRECISION_INTEGRAL + PRECISION_FRACTIONAL\n",
    "\n",
    "assert(Q > BASE**PRECISION)"
   ]
  },
  {
   "cell_type": "code",
   "execution_count": 3,
   "metadata": {
    "collapsed": true
   },
   "outputs": [],
   "source": [
    "def encode(rational):\n",
    "    upscaled = int(rational * BASE**PRECISION_FRACTIONAL)\n",
    "    field_element = upscaled % Q\n",
    "    return field_element\n",
    "\n",
    "def decode(field_element):\n",
    "    upscaled = field_element if field_element <= Q/2 else field_element - Q\n",
    "    rational = upscaled / BASE**PRECISION_FRACTIONAL\n",
    "    return rational"
   ]
  },
  {
   "cell_type": "code",
   "execution_count": 4,
   "metadata": {
    "collapsed": true
   },
   "outputs": [],
   "source": [
    "def share(secret):\n",
    "    first  = random.randrange(Q)\n",
    "    second = random.randrange(Q)\n",
    "    third  = (secret - first - second) % Q\n",
    "    return [first, second, third]\n",
    "\n",
    "def reconstruct(sharing):\n",
    "    return sum(sharing) % Q\n",
    "\n",
    "def reshare(x):\n",
    "    Y = [ share(x[0]), share(x[1]), share(x[2]) ]\n",
    "    return [ sum(row) % Q for row in zip(*Y) ]"
   ]
  },
  {
   "cell_type": "code",
   "execution_count": 5,
   "metadata": {
    "collapsed": true
   },
   "outputs": [],
   "source": [
    "def add(x, y):\n",
    "    return [ (xi + yi) % Q for xi, yi in zip(x, y) ]\n",
    "\n",
    "def sub(x, y):\n",
    "    return [ (xi - yi) % Q for xi, yi in zip(x, y) ]\n",
    "    \n",
    "def imul(x, k):\n",
    "    return [ (xi * k) % Q for xi in x ]"
   ]
  },
  {
   "cell_type": "code",
   "execution_count": 6,
   "metadata": {
    "collapsed": true
   },
   "outputs": [],
   "source": [
    "INVERSE = 104491423396290281423421247963055991507 # inverse of BASE**FRACTIONAL_PRECISION\n",
    "KAPPA = 6 # leave room for five digits overflow before leakage\n",
    "\n",
    "assert((INVERSE * BASE**PRECISION_FRACTIONAL) % Q == 1)\n",
    "assert(Q > BASE**(2*PRECISION + KAPPA))\n",
    "\n",
    "def truncate(a):\n",
    "    # map to the positive range\n",
    "    b = add(a, [BASE**(2*PRECISION+1), 0, 0])\n",
    "    # apply mask known only by P0, and reconstruct masked b to P1 or P2\n",
    "    mask = random.randrange(Q) % BASE**(PRECISION + PRECISION_FRACTIONAL + KAPPA)\n",
    "    mask_low = mask % BASE**PRECISION_FRACTIONAL\n",
    "    b_masked = reconstruct(add(b, [mask, 0, 0]))\n",
    "    # extract lower digits\n",
    "    b_masked_low = b_masked % BASE**PRECISION_FRACTIONAL\n",
    "    b_low = sub(share(b_masked_low), share(mask_low))\n",
    "    # remove lower digits\n",
    "    c = sub(a, b_low)\n",
    "    # remove extra scaling factor\n",
    "    d = imul(c, INVERSE)\n",
    "    return d"
   ]
  },
  {
   "cell_type": "code",
   "execution_count": 7,
   "metadata": {
    "collapsed": true
   },
   "outputs": [],
   "source": [
    "def mul(x, y):\n",
    "    # local computation\n",
    "    z0 = (x[0]*y[0] + x[0]*y[1] + x[1]*y[0]) % Q\n",
    "    z1 = (x[1]*y[1] + x[1]*y[2] + x[2]*y[1]) % Q\n",
    "    z2 = (x[2]*y[2] + x[2]*y[0] + x[0]*y[2]) % Q\n",
    "    # reshare and distribute\n",
    "    Z = [ share(z0), share(z1), share(z2) ]\n",
    "    w = [ sum(row) % Q for row in zip(*Z) ]\n",
    "    # bring precision back down from double to single\n",
    "    v = truncate(w)\n",
    "    return v"
   ]
  },
  {
   "cell_type": "code",
   "execution_count": 8,
   "metadata": {
    "collapsed": true
   },
   "outputs": [],
   "source": [
    "class SecureRational(object):\n",
    "    \n",
    "    def secure(secret):\n",
    "        z = SecureRational()\n",
    "        z.shares = share(encode(secret))\n",
    "        return z\n",
    "    \n",
    "    def reveal(self):\n",
    "        return decode(reconstruct(reshare(self.shares)))\n",
    "    \n",
    "    def __repr__(self):\n",
    "        return \"SecureRational(%f)\" % self.reveal()\n",
    "    \n",
    "    def __add__(x, y):\n",
    "        z = SecureRational()\n",
    "        z.shares = add(x.shares, y.shares)\n",
    "        return z\n",
    "    \n",
    "    def __sub__(x, y):\n",
    "        z = SecureRational()\n",
    "        z.shares = sub(x.shares, y.shares)\n",
    "        return z\n",
    "    \n",
    "    def __mul__(x, y):\n",
    "        z = SecureRational()\n",
    "        z.shares = mul(x.shares, y.shares)\n",
    "        return z\n",
    "    \n",
    "    def __pow__(x, e):\n",
    "        z = SecureRational.secure(1)\n",
    "        for _ in range(e):\n",
    "            z = z * x\n",
    "        return z"
   ]
  },
  {
   "cell_type": "code",
   "execution_count": 9,
   "metadata": {
    "collapsed": true
   },
   "outputs": [],
   "source": [
    "x = SecureRational.secure(.5)\n",
    "y = SecureRational.secure(-.25)\n",
    "z = x * y\n",
    "assert(z.reveal() == (.5) * (-.25))"
   ]
  },
  {
   "cell_type": "code",
   "execution_count": 10,
   "metadata": {
    "collapsed": true
   },
   "outputs": [],
   "source": [
    "class OpenRational(object):\n",
    "    \n",
    "    def __init__(self, secret):\n",
    "        self.secret = secret\n",
    "    \n",
    "    def secure(secret):\n",
    "        return OpenRational(secret)\n",
    "    \n",
    "    def reveal(self):\n",
    "        return self.secret\n",
    "    \n",
    "    def __repr__(self):\n",
    "        return \"OpenRational(%f)\" % self.reveal()\n",
    "    \n",
    "    def __add__(x, y):\n",
    "        return OpenRational(x.secret + y.secret)\n",
    "    \n",
    "    def __sub__(x, y):\n",
    "        return OpenRational(x.secret - y.secret)\n",
    "    \n",
    "    def __mul__(x, y):\n",
    "        return OpenRational(x.secret * y.secret)\n",
    "    \n",
    "    def __pow__(x, e):\n",
    "        z = OpenRational(1)\n",
    "        for _ in range(e):\n",
    "            z = z * x\n",
    "        return z"
   ]
  },
  {
   "cell_type": "code",
   "execution_count": 11,
   "metadata": {
    "collapsed": true
   },
   "outputs": [],
   "source": [
    "# helper functions to map array of numbers to and from secure data type\n",
    "secure = np.vectorize(lambda x: SecureRational.secure(x))\n",
    "reveal = np.vectorize(lambda x: x.reveal())"
   ]
  },
  {
   "cell_type": "code",
   "execution_count": 12,
   "metadata": {
    "collapsed": true
   },
   "outputs": [],
   "source": [
    "class TwoLayerNetwork:\n",
    "\n",
    "    def __init__(self, sigmoid):\n",
    "        self.sigmoid = sigmoid\n",
    "    \n",
    "    def train(self, X, y, iterations=1000, alpha=1):\n",
    "\n",
    "        # prepare alpha value\n",
    "        alpha = secure(alpha)\n",
    "        \n",
    "        # initial weights \n",
    "        self.synapse0 = secure(2 * np.random.random((3,1)) - 1)\n",
    "\n",
    "        # training\n",
    "        for i in range(iterations):\n",
    "\n",
    "            # forward propagation\n",
    "            layer0 = X\n",
    "            layer1 = self.sigmoid.evaluate(np.dot(layer0, self.synapse0))\n",
    "\n",
    "            # back propagation\n",
    "            layer1_error = y - layer1\n",
    "            layer1_delta = layer1_error * self.sigmoid.derive(layer1)\n",
    "            \n",
    "            # provide error feed by revealing values\n",
    "            if (i+1) % (iterations//10) == 0:\n",
    "                print(\"Error: %s\" % np.mean(np.abs(reveal(layer1_error))))\n",
    "\n",
    "            # update\n",
    "            self.synapse0 += np.dot(layer0.T, layer1_delta) * alpha\n",
    "            \n",
    "    def predict(self, X):\n",
    "        layer0 = X\n",
    "        layer1 = self.sigmoid.evaluate(np.dot(layer0, self.synapse0))\n",
    "        return layer1\n",
    "    \n",
    "    def print_weights(self):\n",
    "        print(\"Layer 0 weights: \\n%s\" % self.synapse0)"
   ]
  },
  {
   "cell_type": "code",
   "execution_count": 13,
   "metadata": {
    "collapsed": true
   },
   "outputs": [],
   "source": [
    "class ThreeLayerNetwork:\n",
    "\n",
    "    def __init__(self, sigmoid):\n",
    "        self.sigmoid = sigmoid\n",
    "    \n",
    "    def train(self, X, y, iterations=1000, alpha=1):\n",
    "\n",
    "        # prepare alpha value\n",
    "        alpha = secure(alpha)\n",
    "        \n",
    "        # initial weights\n",
    "        self.synapse0 = secure(2 * np.random.random((3,4)) - 1)\n",
    "        self.synapse1 = secure(2 * np.random.random((4,1)) - 1)\n",
    "\n",
    "        # training\n",
    "        for i in range(iterations):\n",
    "    \n",
    "            # forward propagation\n",
    "            layer0 = X\n",
    "            layer1 = self.sigmoid.evaluate(np.dot(layer0, self.synapse0))\n",
    "            layer2 = self.sigmoid.evaluate(np.dot(layer1, self.synapse1))\n",
    "\n",
    "            # back propagation\n",
    "            layer2_error = y - layer2\n",
    "            layer2_delta = layer2_error * self.sigmoid.derive(layer2)\n",
    "            layer1_error = np.dot(layer2_delta, self.synapse1.T)\n",
    "            layer1_delta = layer1_error * self.sigmoid.derive(layer1)\n",
    "\n",
    "            # provide error feedback by revealing values\n",
    "            if (i+1) % (iterations//10) == 0:\n",
    "                print(\"Error: %s\" % np.mean(np.abs(reveal(layer2_error))))\n",
    "\n",
    "            # update\n",
    "            self.synapse1 += np.dot(layer1.T, layer2_delta) * alpha\n",
    "            self.synapse0 += np.dot(layer0.T, layer1_delta) * alpha\n",
    "            \n",
    "    def predict(self, X):\n",
    "        layer0 = X\n",
    "        layer1 = self.sigmoid.evaluate(np.dot(layer0, self.synapse0))\n",
    "        layer2 = self.sigmoid.evaluate(np.dot(layer1, self.synapse1))\n",
    "        return layer2\n",
    "    \n",
    "    def print_weights(self):\n",
    "        print(\"Layer 0 weights: \\n%s\" % self.synapse0)\n",
    "        print(\"Layer 1 weights: \\n%s\" % self.synapse1)"
   ]
  },
  {
   "cell_type": "code",
   "execution_count": 14,
   "metadata": {},
   "outputs": [
    {
     "data": {
      "text/plain": [
       "array([2, 4, 6, 8])"
      ]
     },
     "execution_count": 14,
     "metadata": {},
     "output_type": "execute_result"
    }
   ],
   "source": [
    "np.array([2]) * np.array([1,2,3,4])"
   ]
  },
  {
   "cell_type": "code",
   "execution_count": 15,
   "metadata": {
    "collapsed": true
   },
   "outputs": [],
   "source": [
    "class SigmoidMaclaurin3:\n",
    "    \n",
    "    def __init__(self):\n",
    "        ONE = SecureRational.secure(1)\n",
    "        W0  = SecureRational.secure(1/2)\n",
    "        W1  = SecureRational.secure(1/4)\n",
    "        W3  = SecureRational.secure(-1/48)\n",
    "        self.sigmoid = np.vectorize(lambda x: W0 + (x * W1) + (x**3 * W3))\n",
    "        self.sigmoid_deriv = np.vectorize(lambda x: (ONE - x) * x)\n",
    "        \n",
    "    def evaluate(self, x):\n",
    "        return self.sigmoid(x)\n",
    "\n",
    "    def derive(self, x):\n",
    "        return self.sigmoid_deriv(x)"
   ]
  },
  {
   "cell_type": "code",
   "execution_count": 16,
   "metadata": {
    "collapsed": true
   },
   "outputs": [],
   "source": [
    "class SigmoidMaclaurin5:\n",
    "    \n",
    "    def __init__(self):\n",
    "        ONE = SecureRational.secure(1)\n",
    "        W0  = SecureRational.secure(1/2)\n",
    "        W1  = SecureRational.secure(1/4)\n",
    "        W3  = SecureRational.secure(-1/48)\n",
    "        W5  = SecureRational.secure(1/480)\n",
    "        self.sigmoid = np.vectorize(lambda x: W0 + (x * W1) + (x**3 * W3) + (x**5 * W5))\n",
    "        self.sigmoid_deriv = np.vectorize(lambda x:(ONE - x) * x)\n",
    "        \n",
    "    def evaluate(self, x):\n",
    "        return self.sigmoid(x)\n",
    "\n",
    "    def derive(self, x):\n",
    "        return self.sigmoid_deriv(x)"
   ]
  },
  {
   "cell_type": "code",
   "execution_count": 17,
   "metadata": {
    "collapsed": true
   },
   "outputs": [],
   "source": [
    "class SigmoidMaclaurin9:\n",
    "    \n",
    "    def __init__(self):\n",
    "        ONE = SecureRational.secure(1)\n",
    "        W0  = SecureRational.secure(1/2)\n",
    "        W1  = SecureRational.secure(1/4)\n",
    "        W3  = SecureRational.secure(-1/48)\n",
    "        W5  = SecureRational.secure(1/480)\n",
    "        W7  = SecureRational.secure(-17/80640)\n",
    "        W9  = SecureRational.secure(31/1451520)\n",
    "        self.sigmoid = np.vectorize(lambda x: W0 + (x * W1) + (x**3 * W3) + (x**5 * W5) + (x**7 * W7) + (x**9 * W9))\n",
    "        self.sigmoid_deriv = np.vectorize(lambda x:(ONE - x) * x)\n",
    "        \n",
    "    def evaluate(self, x):\n",
    "        return self.sigmoid(x)\n",
    "\n",
    "    def derive(self, x):\n",
    "        return self.sigmoid_deriv(x)"
   ]
  },
  {
   "cell_type": "code",
   "execution_count": 18,
   "metadata": {
    "collapsed": true
   },
   "outputs": [],
   "source": [
    "class SigmoidInterpolated10:\n",
    "    \n",
    "    def __init__(self):\n",
    "        ONE = SecureRational.secure(1)\n",
    "        W0  = SecureRational.secure(0.5)\n",
    "        W1  = SecureRational.secure(0.2159198015)\n",
    "        W3  = SecureRational.secure(-0.0082176259)\n",
    "        W5  = SecureRational.secure(0.0001825597)\n",
    "        W7  = SecureRational.secure(-0.0000018848)\n",
    "        W9  = SecureRational.secure(0.0000000072)\n",
    "        self.sigmoid = np.vectorize(lambda x: W0 + (x * W1) + (x**3 * W3) + (x**5 * W5) + (x**7 * W7) + (x**9 * W9))\n",
    "        self.sigmoid_deriv = np.vectorize(lambda x:(ONE - x) * x)\n",
    "        \n",
    "    def evaluate(self, x):\n",
    "        return self.sigmoid(x)\n",
    "\n",
    "    def derive(self, x):\n",
    "        return self.sigmoid_deriv(x)"
   ]
  },
  {
   "cell_type": "code",
   "execution_count": 19,
   "metadata": {
    "collapsed": true
   },
   "outputs": [],
   "source": [
    "X_full = np.array([\n",
    "            [0,0,0],\n",
    "            [0,0,1],\n",
    "            [0,1,0],\n",
    "            [0,1,1],\n",
    "            [1,0,0],\n",
    "            [1,0,1],\n",
    "            [1,1,0],\n",
    "            [1,1,1]\n",
    "        ])\n",
    "\n",
    "def evaluate(network):\n",
    "    for x in X_full:\n",
    "        score = reveal(network.predict(secure(x)))\n",
    "        prediction = 1 if score > 0.5 else 0\n",
    "        print(\"Prediction on %s: %s (%.8f)\" % (x, prediction, score))"
   ]
  },
  {
   "cell_type": "code",
   "execution_count": 20,
   "metadata": {
    "collapsed": true
   },
   "outputs": [],
   "source": [
    "X_train = np.array([\n",
    "            [0,0,1],\n",
    "            [0,1,1],\n",
    "            [1,0,1],\n",
    "            [1,1,1]\n",
    "        ])\n",
    "\n",
    "y_train = np.array([[\n",
    "            0,\n",
    "            0,\n",
    "            1,\n",
    "            1\n",
    "        ]]).T"
   ]
  },
  {
   "cell_type": "code",
   "execution_count": 21,
   "metadata": {},
   "outputs": [
    {
     "name": "stdout",
     "output_type": "stream",
     "text": [
      "Error: 0.00539115\n",
      "Error: 0.0025606125\n",
      "Error: 0.00167358\n",
      "Error: 0.001241815\n",
      "Error: 0.00098674\n",
      "Error: 0.000818415\n",
      "Error: 0.0006990725\n",
      "Error: 0.0006100825\n",
      "Error: 0.00054113\n",
      "Error: 0.0004861775\n",
      "Layer 0 weights: \n",
      "[[SecureRational(4.974135)]\n",
      " [SecureRational(-0.000854)]\n",
      " [SecureRational(-2.486387)]]\n",
      "Prediction on [0 0 0]: 0 (0.50000000)\n",
      "Prediction on [0 0 1]: 0 (0.00066431)\n",
      "Prediction on [0 1 0]: 0 (0.49978657)\n",
      "Prediction on [0 1 1]: 0 (0.00044076)\n",
      "Prediction on [1 0 0]: 1 (5.52331855)\n",
      "Prediction on [1 0 1]: 1 (0.99969213)\n",
      "Prediction on [1 1 0]: 1 (5.51898314)\n",
      "Prediction on [1 1 1]: 1 (0.99946841)\n"
     ]
    }
   ],
   "source": [
    "# reseed to get reproducible results\n",
    "random.seed(1)\n",
    "np.random.seed(1)\n",
    "\n",
    "# pick approximation\n",
    "sigmoid = SigmoidMaclaurin5()\n",
    "\n",
    "# train\n",
    "network = TwoLayerNetwork(sigmoid)\n",
    "network.train(secure(X_train), secure(y_train), 10000)\n",
    "network.print_weights()\n",
    "\n",
    "# evaluate predictions\n",
    "evaluate(network)"
   ]
  },
  {
   "cell_type": "code",
   "execution_count": 22,
   "metadata": {
    "collapsed": true
   },
   "outputs": [],
   "source": [
    "X_train = np.array([\n",
    "            [0,0,1],\n",
    "            [0,1,1],\n",
    "            [1,0,1],\n",
    "            [1,1,1]\n",
    "        ])\n",
    "\n",
    "y_train = np.array([[\n",
    "            0,\n",
    "            1,\n",
    "            1,\n",
    "            0\n",
    "        ]]).T"
   ]
  },
  {
   "cell_type": "code",
   "execution_count": 23,
   "metadata": {},
   "outputs": [
    {
     "name": "stdout",
     "output_type": "stream",
     "text": [
      "Error: 0.500000005\n",
      "Error: 0.5\n",
      "Error: 0.5000000025\n",
      "Error: 0.5000000025\n",
      "Error: 0.5\n",
      "Error: 0.5\n",
      "Error: 0.5\n",
      "Error: 0.5\n",
      "Error: 0.5\n",
      "Error: 0.5\n",
      "Layer 0 weights: \n",
      "[[SecureRational(0.000000)]\n",
      " [SecureRational(0.000000)]\n",
      " [SecureRational(0.000000)]]\n",
      "Prediction on [0 0 0]: 0 (0.50000000)\n",
      "Prediction on [0 0 1]: 0 (0.50000000)\n",
      "Prediction on [0 1 0]: 0 (0.50000000)\n",
      "Prediction on [0 1 1]: 0 (0.50000000)\n",
      "Prediction on [1 0 0]: 0 (0.50000000)\n",
      "Prediction on [1 0 1]: 0 (0.50000000)\n",
      "Prediction on [1 1 0]: 0 (0.50000000)\n",
      "Prediction on [1 1 1]: 0 (0.50000000)\n"
     ]
    }
   ],
   "source": [
    "# reseed to get reproducible results\n",
    "random.seed(1)\n",
    "np.random.seed(1)\n",
    "\n",
    "# pick approximation\n",
    "sigmoid = SigmoidMaclaurin5()\n",
    "\n",
    "# train\n",
    "network = TwoLayerNetwork(sigmoid)\n",
    "network.train(secure(X_train), secure(y_train), 1000)\n",
    "network.print_weights()\n",
    "\n",
    "# evaluate predictions\n",
    "evaluate(network)"
   ]
  },
  {
   "cell_type": "code",
   "execution_count": 24,
   "metadata": {},
   "outputs": [
    {
     "name": "stdout",
     "output_type": "stream",
     "text": [
      "Error: 0.496326875\n",
      "Error: 0.4963253375\n",
      "Error: 0.50109445\n",
      "Error: 4.50917445533e+22\n",
      "Error: 4.20017387687e+22\n",
      "Error: 4.38235385094e+22\n",
      "Error: 4.65389939428e+22\n",
      "Error: 4.25720845129e+22\n",
      "Error: 4.50520005372e+22\n",
      "Error: 4.31568874384e+22\n",
      "Layer 0 weights: \n",
      "[[SecureRational(970463188850515564822528.000000)\n",
      "  SecureRational(1032362386093871682551808.000000)\n",
      "  SecureRational(1009706886834648285970432.000000)\n",
      "  SecureRational(852352894255113084862464.000000)]\n",
      " [SecureRational(999182403614802557534208.000000)\n",
      "  SecureRational(747418473813466924711936.000000)\n",
      "  SecureRational(984098986255565992230912.000000)\n",
      "  SecureRational(865284701475152213311488.000000)]\n",
      " [SecureRational(848400149667429499273216.000000)\n",
      "  SecureRational(871252067688430631387136.000000)\n",
      "  SecureRational(788722871059090631557120.000000)\n",
      "  SecureRational(868480811373827731750912.000000)]]\n",
      "Layer 1 weights: \n",
      "[[SecureRational(818092877308528183738368.000000)]\n",
      " [SecureRational(940782003999550335877120.000000)]\n",
      " [SecureRational(909882533376693496709120.000000)]\n",
      " [SecureRational(955267264038446787723264.000000)]]\n",
      "Prediction on [0 0 0]: 1 (41452089757570437218304.00000000)\n",
      "Prediction on [0 0 1]: 1 (46442301971509056372736.00000000)\n",
      "Prediction on [0 1 0]: 1 (37164015478651618328576.00000000)\n",
      "Prediction on [0 1 1]: 1 (43504970843252146044928.00000000)\n",
      "Prediction on [1 0 0]: 1 (35282926617309558603776.00000000)\n",
      "Prediction on [1 0 1]: 1 (47658769913438164484096.00000000)\n",
      "Prediction on [1 1 0]: 1 (35957624290517111013376.00000000)\n",
      "Prediction on [1 1 1]: 1 (47193714919561920249856.00000000)\n"
     ]
    }
   ],
   "source": [
    "# reseed to get reproducible results\n",
    "random.seed(1)\n",
    "np.random.seed(1)\n",
    "\n",
    "# pick approximation\n",
    "sigmoid = SigmoidMaclaurin5()\n",
    "\n",
    "# train\n",
    "network = ThreeLayerNetwork(sigmoid)\n",
    "network.train(secure(X_train), secure(y_train), 100)\n",
    "network.print_weights()\n",
    "\n",
    "# evaluate predictions\n",
    "evaluate(network)"
   ]
  },
  {
   "cell_type": "code",
   "execution_count": 25,
   "metadata": {},
   "outputs": [
    {
     "name": "stdout",
     "output_type": "stream",
     "text": [
      "Error: 0.49546145\n",
      "Error: 0.4943132225\n",
      "Error: 0.49390536\n",
      "Error: 0.50914575\n",
      "Error: 7.29251498137e+22\n",
      "Error: 7.97702462371e+22\n",
      "Error: 7.01752029207e+22\n",
      "Error: 7.41001528681e+22\n",
      "Error: 7.33032620012e+22\n",
      "Error: 7.3022511184e+22\n",
      "Layer 0 weights: \n",
      "[[SecureRational(867589421903116943491072.000000)\n",
      "  SecureRational(925728055684076836749312.000000)\n",
      "  SecureRational(822088442598816439336960.000000)\n",
      "  SecureRational(755780148365930251943936.000000)]\n",
      " [SecureRational(884209157989405999235072.000000)\n",
      "  SecureRational(792575791450471840874496.000000)\n",
      "  SecureRational(923048733641244892200960.000000)\n",
      "  SecureRational(806331401937938901106688.000000)]\n",
      " [SecureRational(798596437496442344439808.000000)\n",
      "  SecureRational(823212471429560140824576.000000)\n",
      "  SecureRational(864724012603872064307200.000000)\n",
      "  SecureRational(808596872646821102485504.000000)]]\n",
      "Layer 1 weights: \n",
      "[[SecureRational(769124640640082141773824.000000)]\n",
      " [SecureRational(836496252705041167679488.000000)]\n",
      " [SecureRational(807253860823596435243008.000000)]\n",
      " [SecureRational(768233820338786922397696.000000)]]\n",
      "Prediction on [0 0 0]: 1 (66869110811020570394624.00000000)\n",
      "Prediction on [0 0 1]: 1 (80678227989694030807040.00000000)\n",
      "Prediction on [0 1 0]: 1 (72178823849212137963520.00000000)\n",
      "Prediction on [0 1 1]: 1 (69505548207791854845952.00000000)\n",
      "Prediction on [1 0 0]: 1 (70329997196177734369280.00000000)\n",
      "Prediction on [1 0 1]: 1 (66689442155459912925184.00000000)\n",
      "Prediction on [1 1 0]: 1 (72279576333117955244032.00000000)\n",
      "Prediction on [1 1 1]: 1 (70130620338990313635840.00000000)\n"
     ]
    }
   ],
   "source": [
    "# reseed to get reproducible results\n",
    "random.seed(1)\n",
    "np.random.seed(1)\n",
    "\n",
    "# pick approximation\n",
    "sigmoid = SigmoidMaclaurin9()\n",
    "\n",
    "# train\n",
    "network = ThreeLayerNetwork(sigmoid)\n",
    "network.train(secure(X_train), secure(y_train), 100)\n",
    "network.print_weights()\n",
    "\n",
    "# evaluate predictions\n",
    "evaluate(network)"
   ]
  },
  {
   "cell_type": "code",
   "execution_count": 26,
   "metadata": {},
   "outputs": [
    {
     "name": "stdout",
     "output_type": "stream",
     "text": [
      "Error: 0.4821573275\n",
      "Error: 0.46344183\n",
      "Error: 0.4428059575\n",
      "Error: 0.4168092675\n",
      "Error: 0.388153325\n",
      "Error: 0.3619875475\n",
      "Error: 0.3025045425\n",
      "Error: 0.2366579675\n",
      "Error: 0.19651228\n",
      "Error: 0.1748352775\n",
      "Layer 0 weights: \n",
      "[[SecureRational(1.455894) SecureRational(1.376838)\n",
      "  SecureRational(-1.445690) SecureRational(-2.383619)]\n",
      " [SecureRational(-0.794408) SecureRational(-2.069235)\n",
      "  SecureRational(-1.870023) SecureRational(-1.734243)]\n",
      " [SecureRational(0.712099) SecureRational(-0.688947)\n",
      "  SecureRational(0.740605) SecureRational(2.890812)]]\n",
      "Layer 1 weights: \n",
      "[[SecureRational(-2.893681)]\n",
      " [SecureRational(6.238205)]\n",
      " [SecureRational(-7.945379)]\n",
      " [SecureRational(4.674321)]]\n",
      "Prediction on [0 0 0]: 1 (0.50918230)\n",
      "Prediction on [0 0 1]: 0 (0.16883382)\n",
      "Prediction on [0 1 0]: 0 (0.40589161)\n",
      "Prediction on [0 1 1]: 1 (0.82447640)\n",
      "Prediction on [1 0 0]: 1 (0.83164009)\n",
      "Prediction on [1 0 1]: 1 (0.83317334)\n",
      "Prediction on [1 1 0]: 1 (0.74354671)\n",
      "Prediction on [1 1 1]: 0 (0.18736629)\n"
     ]
    }
   ],
   "source": [
    "# reseed to get reproducible results\n",
    "random.seed(1)\n",
    "np.random.seed(1)\n",
    "\n",
    "# pick approximation\n",
    "sigmoid = SigmoidMaclaurin3()\n",
    "\n",
    "# train\n",
    "network = ThreeLayerNetwork(sigmoid)\n",
    "network.train(secure(X_train), secure(y_train), 500)\n",
    "network.print_weights()\n",
    "\n",
    "# evaluate predictions\n",
    "evaluate(network)"
   ]
  },
  {
   "cell_type": "code",
   "execution_count": 27,
   "metadata": {},
   "outputs": [
    {
     "name": "stdout",
     "output_type": "stream",
     "text": [
      "Error: 0.4804166425\n",
      "Error: 0.45947967\n",
      "Error: 0.4357743725\n",
      "Error: 0.4050500125\n",
      "Error: 0.3753641875\n",
      "Error: 0.3339848675\n",
      "Error: 0.253083505\n",
      "Error: 0.202983755\n",
      "Error: 0.1760496125\n",
      "Error: 4.68435851895e+22\n",
      "Layer 0 weights: \n",
      "[[SecureRational(400992477069057112145920.000000)\n",
      "  SecureRational(405257358037106569510912.000000)\n",
      "  SecureRational(442905398473782651256832.000000)\n",
      "  SecureRational(377854517438411771478016.000000)]\n",
      " [SecureRational(431147901530714740359168.000000)\n",
      "  SecureRational(478469347392975582265344.000000)\n",
      "  SecureRational(384074406461635202908160.000000)\n",
      "  SecureRational(418307054827778709913600.000000)]\n",
      " [SecureRational(388276373567757103398912.000000)\n",
      "  SecureRational(427441225610272262062080.000000)\n",
      "  SecureRational(370061894706638499086336.000000)\n",
      "  SecureRational(451299387791588817108992.000000)]]\n",
      "Layer 1 weights: \n",
      "[[SecureRational(412762217581329906663424.000000)]\n",
      " [SecureRational(342080083074562152988672.000000)]\n",
      " [SecureRational(379803268474628961468416.000000)]\n",
      " [SecureRational(347324787173908532953088.000000)]]\n",
      "Prediction on [0 0 0]: 1 (45539622114754295758848.00000000)\n",
      "Prediction on [0 0 1]: 1 (39382766407177050521600.00000000)\n",
      "Prediction on [0 1 0]: 1 (35562506825748109590528.00000000)\n",
      "Prediction on [0 1 1]: 1 (41711344942893496270848.00000000)\n",
      "Prediction on [1 0 0]: 1 (37689117923051290230784.00000000)\n",
      "Prediction on [1 0 1]: 1 (44754178060777519316992.00000000)\n",
      "Prediction on [1 1 0]: 1 (43455810808258903408640.00000000)\n",
      "Prediction on [1 1 1]: 1 (51899893664700405121024.00000000)\n"
     ]
    }
   ],
   "source": [
    "# reseed to get reproducible results\n",
    "random.seed(1)\n",
    "np.random.seed(1)\n",
    "\n",
    "# pick approximation\n",
    "sigmoid = SigmoidMaclaurin3()\n",
    "\n",
    "# train\n",
    "network = ThreeLayerNetwork(sigmoid)\n",
    "network.train(secure(X_train), secure(y_train), 550)\n",
    "network.print_weights()\n",
    "\n",
    "# evaluate predictions\n",
    "evaluate(network)"
   ]
  },
  {
   "cell_type": "code",
   "execution_count": 28,
   "metadata": {},
   "outputs": [
    {
     "name": "stdout",
     "output_type": "stream",
     "text": [
      "Error: 0.0384136825\n",
      "Error: 0.01946007\n",
      "Error: 0.0141456075\n",
      "Error: 0.0115575225\n",
      "Error: 0.010008035\n",
      "Error: 0.0089747225\n",
      "Error: 0.0082400825\n",
      "Error: 0.00769687\n",
      "Error: 0.007286195\n",
      "Error: 0.00697363\n",
      "Layer 0 weights: \n",
      "[[SecureRational(3.208028) SecureRational(3.359444)\n",
      "  SecureRational(-3.632461) SecureRational(-4.094379)]\n",
      " [SecureRational(-1.552827) SecureRational(-4.403901)\n",
      "  SecureRational(-3.997194) SecureRational(-3.271171)]\n",
      " [SecureRational(0.695226) SecureRational(-1.560569)\n",
      "  SecureRational(1.758733) SecureRational(5.425429)]]\n",
      "Layer 1 weights: \n",
      "[[SecureRational(-4.674311)]\n",
      " [SecureRational(5.910466)]\n",
      " [SecureRational(-9.854162)]\n",
      " [SecureRational(6.508941)]]\n",
      "Prediction on [0 0 0]: 0 (0.28170669)\n",
      "Prediction on [0 0 1]: 0 (0.00638341)\n",
      "Prediction on [0 1 0]: 0 (0.33542098)\n",
      "Prediction on [0 1 1]: 1 (0.99287968)\n",
      "Prediction on [1 0 0]: 1 (0.74297185)\n",
      "Prediction on [1 0 1]: 1 (0.99361066)\n",
      "Prediction on [1 1 0]: 0 (0.03599433)\n",
      "Prediction on [1 1 1]: 0 (0.00800036)\n"
     ]
    }
   ],
   "source": [
    "# reseed to get reproducible results\n",
    "random.seed(1)\n",
    "np.random.seed(1)\n",
    "\n",
    "# pick approximation\n",
    "sigmoid = SigmoidInterpolated10()\n",
    "\n",
    "# train\n",
    "network = ThreeLayerNetwork(sigmoid)\n",
    "network.train(secure(X_train), secure(y_train), 10000)\n",
    "network.print_weights()\n",
    "\n",
    "# evaluate predictions\n",
    "evaluate(network)"
   ]
  },
  {
   "cell_type": "code",
   "execution_count": null,
   "metadata": {
    "collapsed": true
   },
   "outputs": [],
   "source": []
  }
 ],
 "metadata": {
  "kernelspec": {
   "display_name": "Python 3",
   "language": "python",
   "name": "python3"
  },
  "language_info": {
   "codemirror_mode": {
    "name": "ipython",
    "version": 3
   },
   "file_extension": ".py",
   "mimetype": "text/x-python",
   "name": "python",
   "nbconvert_exporter": "python",
   "pygments_lexer": "ipython3",
   "version": "3.6.1"
  }
 },
 "nbformat": 4,
 "nbformat_minor": 1
}
